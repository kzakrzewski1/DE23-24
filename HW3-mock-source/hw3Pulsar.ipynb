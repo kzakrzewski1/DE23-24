{
 "cells": [
  {
   "cell_type": "code",
   "execution_count": 42,
   "id": "63be2b50-18f1-48d9-bf7a-c138c9ca7801",
   "metadata": {},
   "outputs": [],
   "source": [
    "import requests\n",
    "import pandas as pd"
   ]
  },
  {
   "cell_type": "code",
   "execution_count": 43,
   "id": "7c0575ef-b851-4158-aa72-724efca4e21b",
   "metadata": {},
   "outputs": [],
   "source": [
    "url = 'http://127.0.0.1:8000/'"
   ]
  },
  {
   "cell_type": "code",
   "execution_count": 45,
   "id": "bcba00d4-1a6e-44cb-958e-9316d21e32d7",
   "metadata": {},
   "outputs": [
    {
     "name": "stdout",
     "output_type": "stream",
     "text": [
      "           name  height[cm]\n",
      "0         Alice  183.424072\n",
      "1         Emily  199.721167\n",
      "2          Alex  185.215590\n",
      "3          Liam  185.884576\n",
      "4     Elizabeth  184.312065\n",
      "...         ...         ...\n",
      "9995     Olivia  181.100641\n",
      "9996      David  176.916621\n",
      "9997  Elizabeth  177.065829\n",
      "9998      David  166.572080\n",
      "9999      Emily  175.175742\n",
      "\n",
      "[10000 rows x 2 columns]\n"
     ]
    }
   ],
   "source": [
    "response = requests.get(url)\n",
    "data = pd.DataFrame.from_dict(response.json())\n",
    "\n",
    "print(data)"
   ]
  },
  {
   "cell_type": "code",
   "execution_count": 46,
   "id": "54d6eceb-1861-4276-b468-fcdfab641016",
   "metadata": {},
   "outputs": [
    {
     "name": "stdout",
     "output_type": "stream",
     "text": [
      "Requirement already satisfied: pulsar-client in /opt/conda/lib/python3.11/site-packages (3.3.0)\n",
      "Requirement already satisfied: certifi in /opt/conda/lib/python3.11/site-packages (from pulsar-client) (2023.7.22)\n"
     ]
    }
   ],
   "source": [
    "!pip install pulsar-client"
   ]
  },
  {
   "cell_type": "code",
   "execution_count": 36,
   "id": "7879b053-0914-442b-8216-97b520faf84e",
   "metadata": {
    "scrolled": true
   },
   "outputs": [
    {
     "name": "stdout",
     "output_type": "stream",
     "text": [
      "/bin/bash: line 1: docker: command not found\n"
     ]
    }
   ],
   "source": [
    "# I was having some problems with pulsar on my local machine, so i can't really check if my code for it works as intended."
   ]
  },
  {
   "cell_type": "code",
   "execution_count": null,
   "id": "9ab2a6da-6be3-48bb-97af-0f4df8b1841f",
   "metadata": {},
   "outputs": [],
   "source": [
    "#producer code"
   ]
  },
  {
   "cell_type": "code",
   "execution_count": 47,
   "id": "9923c762-1ac7-445c-ab5c-2442bee721d4",
   "metadata": {},
   "outputs": [
    {
     "name": "stdout",
     "output_type": "stream",
     "text": [
      "2023-10-27 13:36:25.239 INFO  [140300316915520] ClientConnection:184 | [<none> -> pulsar://localhost:6650] Create ClientConnection, timeout=10000\n",
      "2023-10-27 13:36:25.239 INFO  [140300316915520] ConnectionPool:106 | Created connection for pulsar://localhost:6650\n",
      "2023-10-27 13:36:25.239 WARN  [140298154919488] ClientConnection:450 | [<none> -> pulsar://localhost:6650] Failed to establish connection: Connection refused\n",
      "2023-10-27 13:36:25.239 ERROR [140298154919488] ClientConnection:475 | [<none> -> pulsar://localhost:6650] Failed to establish connection: Connection refused\n",
      "2023-10-27 13:36:25.239 INFO  [140298154919488] ClientConnection:1236 | [<none> -> pulsar://localhost:6650] Connection disconnected\n",
      "2023-10-27 13:36:25.239 INFO  [140298154919488] RetryableOperation:106 | Reschedule get-partition-metadata-persistent://public/default/my-topic for 100 ms, remaining time: 29900 ms\n",
      "2023-10-27 13:36:25.239 INFO  [140298154919488] ClientConnection:263 | [<none> -> pulsar://localhost:6650] Destroyed connection\n",
      "2023-10-27 13:36:25.339 INFO  [140298154919488] ConnectionPool:86 | Deleting stale connection from pool for pulsar://localhost:6650 use_count: -1 @ 0\n",
      "2023-10-27 13:36:25.339 INFO  [140298154919488] ClientConnection:184 | [<none> -> pulsar://localhost:6650] Create ClientConnection, timeout=10000\n",
      "2023-10-27 13:36:25.340 INFO  [140298154919488] ConnectionPool:106 | Created connection for pulsar://localhost:6650\n",
      "2023-10-27 13:36:25.340 WARN  [140298154919488] ClientConnection:450 | [<none> -> pulsar://localhost:6650] Failed to establish connection: Connection refused\n",
      "2023-10-27 13:36:25.340 ERROR [140298154919488] ClientConnection:475 | [<none> -> pulsar://localhost:6650] Failed to establish connection: Connection refused\n",
      "2023-10-27 13:36:25.340 INFO  [140298154919488] ClientConnection:1236 | [<none> -> pulsar://localhost:6650] Connection disconnected\n",
      "2023-10-27 13:36:25.340 INFO  [140298154919488] RetryableOperation:106 | Reschedule get-partition-metadata-persistent://public/default/my-topic for 196 ms, remaining time: 29704 ms\n",
      "2023-10-27 13:36:25.340 INFO  [140298154919488] ClientConnection:263 | [<none> -> pulsar://localhost:6650] Destroyed connection\n",
      "2023-10-27 13:36:25.536 INFO  [140298154919488] ConnectionPool:86 | Deleting stale connection from pool for pulsar://localhost:6650 use_count: -1 @ 0\n",
      "2023-10-27 13:36:25.536 INFO  [140298154919488] ClientConnection:184 | [<none> -> pulsar://localhost:6650] Create ClientConnection, timeout=10000\n",
      "2023-10-27 13:36:25.536 INFO  [140298154919488] ConnectionPool:106 | Created connection for pulsar://localhost:6650\n",
      "2023-10-27 13:36:25.537 WARN  [140298154919488] ClientConnection:450 | [<none> -> pulsar://localhost:6650] Failed to establish connection: Connection refused\n",
      "2023-10-27 13:36:25.537 ERROR [140298154919488] ClientConnection:475 | [<none> -> pulsar://localhost:6650] Failed to establish connection: Connection refused\n",
      "2023-10-27 13:36:25.537 INFO  [140298154919488] ClientConnection:1236 | [<none> -> pulsar://localhost:6650] Connection disconnected\n",
      "2023-10-27 13:36:25.537 INFO  [140298154919488] RetryableOperation:106 | Reschedule get-partition-metadata-persistent://public/default/my-topic for 368 ms, remaining time: 29336 ms\n",
      "2023-10-27 13:36:25.537 INFO  [140298154919488] ClientConnection:263 | [<none> -> pulsar://localhost:6650] Destroyed connection\n",
      "2023-10-27 13:36:25.905 INFO  [140298154919488] ConnectionPool:86 | Deleting stale connection from pool for pulsar://localhost:6650 use_count: -1 @ 0\n",
      "2023-10-27 13:36:25.905 INFO  [140298154919488] ClientConnection:184 | [<none> -> pulsar://localhost:6650] Create ClientConnection, timeout=10000\n",
      "2023-10-27 13:36:25.905 INFO  [140298154919488] ConnectionPool:106 | Created connection for pulsar://localhost:6650\n",
      "2023-10-27 13:36:25.905 WARN  [140298154919488] ClientConnection:450 | [<none> -> pulsar://localhost:6650] Failed to establish connection: Connection refused\n",
      "2023-10-27 13:36:25.905 ERROR [140298154919488] ClientConnection:475 | [<none> -> pulsar://localhost:6650] Failed to establish connection: Connection refused\n",
      "2023-10-27 13:36:25.905 INFO  [140298154919488] ClientConnection:1236 | [<none> -> pulsar://localhost:6650] Connection disconnected\n",
      "2023-10-27 13:36:25.905 INFO  [140298154919488] RetryableOperation:106 | Reschedule get-partition-metadata-persistent://public/default/my-topic for 800 ms, remaining time: 28536 ms\n",
      "2023-10-27 13:36:25.905 INFO  [140298154919488] ClientConnection:263 | [<none> -> pulsar://localhost:6650] Destroyed connection\n",
      "2023-10-27 13:36:26.705 INFO  [140298154919488] ConnectionPool:86 | Deleting stale connection from pool for pulsar://localhost:6650 use_count: -1 @ 0\n",
      "2023-10-27 13:36:26.705 INFO  [140298154919488] ClientConnection:184 | [<none> -> pulsar://localhost:6650] Create ClientConnection, timeout=10000\n",
      "2023-10-27 13:36:26.705 INFO  [140298154919488] ConnectionPool:106 | Created connection for pulsar://localhost:6650\n",
      "2023-10-27 13:36:26.706 WARN  [140298154919488] ClientConnection:450 | [<none> -> pulsar://localhost:6650] Failed to establish connection: Connection refused\n",
      "2023-10-27 13:36:26.706 ERROR [140298154919488] ClientConnection:475 | [<none> -> pulsar://localhost:6650] Failed to establish connection: Connection refused\n",
      "2023-10-27 13:36:26.706 INFO  [140298154919488] ClientConnection:1236 | [<none> -> pulsar://localhost:6650] Connection disconnected\n",
      "2023-10-27 13:36:26.706 INFO  [140298154919488] RetryableOperation:106 | Reschedule get-partition-metadata-persistent://public/default/my-topic for 1504 ms, remaining time: 27032 ms\n",
      "2023-10-27 13:36:26.706 INFO  [140298154919488] ClientConnection:263 | [<none> -> pulsar://localhost:6650] Destroyed connection\n",
      "2023-10-27 13:36:28.210 INFO  [140298154919488] ConnectionPool:86 | Deleting stale connection from pool for pulsar://localhost:6650 use_count: -1 @ 0\n",
      "2023-10-27 13:36:28.210 INFO  [140298154919488] ClientConnection:184 | [<none> -> pulsar://localhost:6650] Create ClientConnection, timeout=10000\n",
      "2023-10-27 13:36:28.210 INFO  [140298154919488] ConnectionPool:106 | Created connection for pulsar://localhost:6650\n",
      "2023-10-27 13:36:28.210 WARN  [140298154919488] ClientConnection:450 | [<none> -> pulsar://localhost:6650] Failed to establish connection: Connection refused\n",
      "2023-10-27 13:36:28.210 ERROR [140298154919488] ClientConnection:475 | [<none> -> pulsar://localhost:6650] Failed to establish connection: Connection refused\n",
      "2023-10-27 13:36:28.210 INFO  [140298154919488] ClientConnection:1236 | [<none> -> pulsar://localhost:6650] Connection disconnected\n",
      "2023-10-27 13:36:28.210 INFO  [140298154919488] RetryableOperation:106 | Reschedule get-partition-metadata-persistent://public/default/my-topic for 3008 ms, remaining time: 24024 ms\n",
      "2023-10-27 13:36:28.210 INFO  [140298154919488] ClientConnection:263 | [<none> -> pulsar://localhost:6650] Destroyed connection\n",
      "2023-10-27 13:36:31.218 INFO  [140298154919488] ConnectionPool:86 | Deleting stale connection from pool for pulsar://localhost:6650 use_count: -1 @ 0\n",
      "2023-10-27 13:36:31.219 INFO  [140298154919488] ClientConnection:184 | [<none> -> pulsar://localhost:6650] Create ClientConnection, timeout=10000\n",
      "2023-10-27 13:36:31.219 INFO  [140298154919488] ConnectionPool:106 | Created connection for pulsar://localhost:6650\n",
      "2023-10-27 13:36:31.219 WARN  [140298154919488] ClientConnection:450 | [<none> -> pulsar://localhost:6650] Failed to establish connection: Connection refused\n",
      "2023-10-27 13:36:31.219 ERROR [140298154919488] ClientConnection:475 | [<none> -> pulsar://localhost:6650] Failed to establish connection: Connection refused\n",
      "2023-10-27 13:36:31.219 INFO  [140298154919488] ClientConnection:1236 | [<none> -> pulsar://localhost:6650] Connection disconnected\n",
      "2023-10-27 13:36:31.219 INFO  [140298154919488] RetryableOperation:106 | Reschedule get-partition-metadata-persistent://public/default/my-topic for 6016 ms, remaining time: 18008 ms\n",
      "2023-10-27 13:36:31.219 INFO  [140298154919488] ClientConnection:263 | [<none> -> pulsar://localhost:6650] Destroyed connection\n",
      "2023-10-27 13:36:37.235 INFO  [140298154919488] ConnectionPool:86 | Deleting stale connection from pool for pulsar://localhost:6650 use_count: -1 @ 0\n",
      "2023-10-27 13:36:37.235 INFO  [140298154919488] ClientConnection:184 | [<none> -> pulsar://localhost:6650] Create ClientConnection, timeout=10000\n",
      "2023-10-27 13:36:37.235 INFO  [140298154919488] ConnectionPool:106 | Created connection for pulsar://localhost:6650\n",
      "2023-10-27 13:36:37.236 WARN  [140298154919488] ClientConnection:450 | [<none> -> pulsar://localhost:6650] Failed to establish connection: Connection refused\n",
      "2023-10-27 13:36:37.236 ERROR [140298154919488] ClientConnection:475 | [<none> -> pulsar://localhost:6650] Failed to establish connection: Connection refused\n",
      "2023-10-27 13:36:37.236 INFO  [140298154919488] ClientConnection:1236 | [<none> -> pulsar://localhost:6650] Connection disconnected\n",
      "2023-10-27 13:36:37.236 INFO  [140298154919488] RetryableOperation:106 | Reschedule get-partition-metadata-persistent://public/default/my-topic for 11904 ms, remaining time: 6104 ms\n",
      "2023-10-27 13:36:37.236 INFO  [140298154919488] ClientConnection:263 | [<none> -> pulsar://localhost:6650] Destroyed connection\n",
      "2023-10-27 13:36:49.140 INFO  [140298154919488] ConnectionPool:86 | Deleting stale connection from pool for pulsar://localhost:6650 use_count: -1 @ 0\n",
      "2023-10-27 13:36:49.140 INFO  [140298154919488] ClientConnection:184 | [<none> -> pulsar://localhost:6650] Create ClientConnection, timeout=10000\n",
      "2023-10-27 13:36:49.140 INFO  [140298154919488] ConnectionPool:106 | Created connection for pulsar://localhost:6650\n",
      "2023-10-27 13:36:49.140 WARN  [140298154919488] ClientConnection:450 | [<none> -> pulsar://localhost:6650] Failed to establish connection: Connection refused\n",
      "2023-10-27 13:36:49.140 ERROR [140298154919488] ClientConnection:475 | [<none> -> pulsar://localhost:6650] Failed to establish connection: Connection refused\n",
      "2023-10-27 13:36:49.140 INFO  [140298154919488] ClientConnection:1236 | [<none> -> pulsar://localhost:6650] Connection disconnected\n",
      "2023-10-27 13:36:49.140 INFO  [140298154919488] RetryableOperation:106 | Reschedule get-partition-metadata-persistent://public/default/my-topic for 6104 ms, remaining time: 0 ms\n",
      "2023-10-27 13:36:49.140 INFO  [140298154919488] ClientConnection:263 | [<none> -> pulsar://localhost:6650] Destroyed connection\n",
      "2023-10-27 13:36:55.244 INFO  [140298154919488] ConnectionPool:86 | Deleting stale connection from pool for pulsar://localhost:6650 use_count: -1 @ 0\n",
      "2023-10-27 13:36:55.244 INFO  [140298154919488] ClientConnection:184 | [<none> -> pulsar://localhost:6650] Create ClientConnection, timeout=10000\n",
      "2023-10-27 13:36:55.244 INFO  [140298154919488] ConnectionPool:106 | Created connection for pulsar://localhost:6650\n",
      "2023-10-27 13:36:55.245 WARN  [140298154919488] ClientConnection:450 | [<none> -> pulsar://localhost:6650] Failed to establish connection: Connection refused\n",
      "2023-10-27 13:36:55.245 ERROR [140298154919488] ClientConnection:475 | [<none> -> pulsar://localhost:6650] Failed to establish connection: Connection refused\n",
      "2023-10-27 13:36:55.245 INFO  [140298154919488] ClientConnection:1236 | [<none> -> pulsar://localhost:6650] Connection disconnected\n",
      "2023-10-27 13:36:55.245 ERROR [140298154919488] ClientImpl:199 | Error Checking/Getting Partition Metadata while creating producer on persistent://public/default/my-topic -- TimeOut\n",
      "2023-10-27 13:36:55.245 INFO  [140298154919488] ClientConnection:263 | [<none> -> pulsar://localhost:6650] Destroyed connection\n"
     ]
    },
    {
     "ename": "Timeout",
     "evalue": "Pulsar error: TimeOut",
     "output_type": "error",
     "traceback": [
      "\u001b[0;31m---------------------------------------------------------------------------\u001b[0m",
      "\u001b[0;31mTimeout\u001b[0m                                   Traceback (most recent call last)",
      "Cell \u001b[0;32mIn[47], line 4\u001b[0m\n\u001b[1;32m      1\u001b[0m \u001b[38;5;28;01mimport\u001b[39;00m \u001b[38;5;21;01mpulsar\u001b[39;00m\n\u001b[1;32m      3\u001b[0m client \u001b[38;5;241m=\u001b[39m pulsar\u001b[38;5;241m.\u001b[39mClient(\u001b[38;5;124m'\u001b[39m\u001b[38;5;124mpulsar://localhost:6650\u001b[39m\u001b[38;5;124m'\u001b[39m)\n\u001b[0;32m----> 4\u001b[0m producer \u001b[38;5;241m=\u001b[39m \u001b[43mclient\u001b[49m\u001b[38;5;241;43m.\u001b[39;49m\u001b[43mcreate_producer\u001b[49m\u001b[43m(\u001b[49m\u001b[38;5;124;43m'\u001b[39;49m\u001b[38;5;124;43mmy-topic\u001b[39;49m\u001b[38;5;124;43m'\u001b[39;49m\u001b[43m)\u001b[49m\n\u001b[1;32m      6\u001b[0m \u001b[38;5;28;01mfor\u001b[39;00m i \u001b[38;5;129;01min\u001b[39;00m \u001b[38;5;28mrange\u001b[39m(data\u001b[38;5;241m.\u001b[39mshape[\u001b[38;5;241m0\u001b[39m]):\n\u001b[1;32m      7\u001b[0m     producer\u001b[38;5;241m.\u001b[39msend((\u001b[38;5;124mf\u001b[39m\u001b[38;5;124m\"\u001b[39m\u001b[38;5;124mName: \u001b[39m\u001b[38;5;132;01m{\u001b[39;00mdata\u001b[38;5;241m.\u001b[39miloc[i,\u001b[38;5;241m0\u001b[39m]\u001b[38;5;132;01m}\u001b[39;00m\u001b[38;5;124m; Height: \u001b[39m\u001b[38;5;132;01m{\u001b[39;00mdata\u001b[38;5;241m.\u001b[39miloc[i,\u001b[38;5;241m1\u001b[39m]\u001b[38;5;132;01m}\u001b[39;00m\u001b[38;5;124m\"\u001b[39m)\u001b[38;5;241m.\u001b[39mencode(\u001b[38;5;124m'\u001b[39m\u001b[38;5;124mutf-8\u001b[39m\u001b[38;5;124m'\u001b[39m))\n",
      "File \u001b[0;32m/opt/conda/lib/python3.11/site-packages/pulsar/__init__.py:743\u001b[0m, in \u001b[0;36mClient.create_producer\u001b[0;34m(self, topic, producer_name, schema, initial_sequence_id, send_timeout_millis, compression_type, max_pending_messages, max_pending_messages_across_partitions, block_if_queue_full, batching_enabled, batching_max_messages, batching_max_allowed_size_in_bytes, batching_max_publish_delay_ms, chunking_enabled, message_routing_mode, lazy_start_partitioned_producers, properties, batching_type, encryption_key, crypto_key_reader, access_mode)\u001b[0m\n\u001b[1;32m    740\u001b[0m     \u001b[38;5;28;01mraise\u001b[39;00m \u001b[38;5;167;01mValueError\u001b[39;00m(\u001b[38;5;124m\"\u001b[39m\u001b[38;5;124mBatching and chunking of messages can\u001b[39m\u001b[38;5;124m'\u001b[39m\u001b[38;5;124mt be enabled together.\u001b[39m\u001b[38;5;124m\"\u001b[39m)\n\u001b[1;32m    742\u001b[0m p \u001b[38;5;241m=\u001b[39m Producer()\n\u001b[0;32m--> 743\u001b[0m p\u001b[38;5;241m.\u001b[39m_producer \u001b[38;5;241m=\u001b[39m \u001b[38;5;28;43mself\u001b[39;49m\u001b[38;5;241;43m.\u001b[39;49m\u001b[43m_client\u001b[49m\u001b[38;5;241;43m.\u001b[39;49m\u001b[43mcreate_producer\u001b[49m\u001b[43m(\u001b[49m\u001b[43mtopic\u001b[49m\u001b[43m,\u001b[49m\u001b[43m \u001b[49m\u001b[43mconf\u001b[49m\u001b[43m)\u001b[49m\n\u001b[1;32m    744\u001b[0m p\u001b[38;5;241m.\u001b[39m_schema \u001b[38;5;241m=\u001b[39m schema\n\u001b[1;32m    745\u001b[0m p\u001b[38;5;241m.\u001b[39m_client \u001b[38;5;241m=\u001b[39m \u001b[38;5;28mself\u001b[39m\u001b[38;5;241m.\u001b[39m_client\n",
      "\u001b[0;31mTimeout\u001b[0m: Pulsar error: TimeOut"
     ]
    }
   ],
   "source": [
    "import pulsar\n",
    "\n",
    "client = pulsar.Client('pulsar://localhost:6650')\n",
    "producer = client.create_producer('my-topic')\n",
    "\n",
    "for i in range(data.shape[0]):\n",
    "    producer.send((f\"Name: {data.iloc[i,0]}; Height: {data.iloc[i,1]}\").encode('utf-8'))\n",
    "\n",
    "client.close()"
   ]
  },
  {
   "cell_type": "code",
   "execution_count": null,
   "id": "baf5da99-fb55-43c3-a36a-3cef64052185",
   "metadata": {},
   "outputs": [],
   "source": [
    "#consumer code"
   ]
  },
  {
   "cell_type": "code",
   "execution_count": 48,
   "id": "4b73ee84-147c-40a4-93ca-f0c3957dcdaf",
   "metadata": {},
   "outputs": [
    {
     "name": "stdout",
     "output_type": "stream",
     "text": [
      "2023-10-27 13:37:31.467 INFO  [140300316915520] Client:90 | Subscribing on Topic :my-topic\n",
      "2023-10-27 13:37:31.467 INFO  [140300316915520] ClientConnection:184 | [<none> -> pulsar://localhost:6650] Create ClientConnection, timeout=10000\n",
      "2023-10-27 13:37:31.467 INFO  [140300316915520] ConnectionPool:106 | Created connection for pulsar://localhost:6650\n",
      "2023-10-27 13:37:31.468 WARN  [140298138134080] ClientConnection:450 | [<none> -> pulsar://localhost:6650] Failed to establish connection: Connection refused\n",
      "2023-10-27 13:37:31.468 ERROR [140298138134080] ClientConnection:475 | [<none> -> pulsar://localhost:6650] Failed to establish connection: Connection refused\n",
      "2023-10-27 13:37:31.468 INFO  [140298138134080] ClientConnection:1236 | [<none> -> pulsar://localhost:6650] Connection disconnected\n",
      "2023-10-27 13:37:31.468 INFO  [140298138134080] RetryableOperation:106 | Reschedule get-partition-metadata-persistent://public/default/my-topic for 100 ms, remaining time: 29900 ms\n",
      "2023-10-27 13:37:31.468 INFO  [140298138134080] ClientConnection:263 | [<none> -> pulsar://localhost:6650] Destroyed connection\n",
      "2023-10-27 13:37:31.568 INFO  [140298138134080] ConnectionPool:86 | Deleting stale connection from pool for pulsar://localhost:6650 use_count: -1 @ 0\n",
      "2023-10-27 13:37:31.568 INFO  [140298138134080] ClientConnection:184 | [<none> -> pulsar://localhost:6650] Create ClientConnection, timeout=10000\n",
      "2023-10-27 13:37:31.568 INFO  [140298138134080] ConnectionPool:106 | Created connection for pulsar://localhost:6650\n",
      "2023-10-27 13:37:31.568 WARN  [140298138134080] ClientConnection:450 | [<none> -> pulsar://localhost:6650] Failed to establish connection: Connection refused\n",
      "2023-10-27 13:37:31.568 ERROR [140298138134080] ClientConnection:475 | [<none> -> pulsar://localhost:6650] Failed to establish connection: Connection refused\n",
      "2023-10-27 13:37:31.569 INFO  [140298138134080] ClientConnection:1236 | [<none> -> pulsar://localhost:6650] Connection disconnected\n",
      "2023-10-27 13:37:31.569 INFO  [140298138134080] RetryableOperation:106 | Reschedule get-partition-metadata-persistent://public/default/my-topic for 192 ms, remaining time: 29708 ms\n",
      "2023-10-27 13:37:31.569 INFO  [140298138134080] ClientConnection:263 | [<none> -> pulsar://localhost:6650] Destroyed connection\n",
      "2023-10-27 13:37:31.761 INFO  [140298138134080] ConnectionPool:86 | Deleting stale connection from pool for pulsar://localhost:6650 use_count: -1 @ 0\n",
      "2023-10-27 13:37:31.761 INFO  [140298138134080] ClientConnection:184 | [<none> -> pulsar://localhost:6650] Create ClientConnection, timeout=10000\n",
      "2023-10-27 13:37:31.761 INFO  [140298138134080] ConnectionPool:106 | Created connection for pulsar://localhost:6650\n",
      "2023-10-27 13:37:31.761 WARN  [140298138134080] ClientConnection:450 | [<none> -> pulsar://localhost:6650] Failed to establish connection: Connection refused\n",
      "2023-10-27 13:37:31.761 ERROR [140298138134080] ClientConnection:475 | [<none> -> pulsar://localhost:6650] Failed to establish connection: Connection refused\n",
      "2023-10-27 13:37:31.761 INFO  [140298138134080] ClientConnection:1236 | [<none> -> pulsar://localhost:6650] Connection disconnected\n",
      "2023-10-27 13:37:31.761 INFO  [140298138134080] RetryableOperation:106 | Reschedule get-partition-metadata-persistent://public/default/my-topic for 364 ms, remaining time: 29344 ms\n",
      "2023-10-27 13:37:31.761 INFO  [140298138134080] ClientConnection:263 | [<none> -> pulsar://localhost:6650] Destroyed connection\n",
      "2023-10-27 13:37:32.125 INFO  [140298138134080] ConnectionPool:86 | Deleting stale connection from pool for pulsar://localhost:6650 use_count: -1 @ 0\n",
      "2023-10-27 13:37:32.125 INFO  [140298138134080] ClientConnection:184 | [<none> -> pulsar://localhost:6650] Create ClientConnection, timeout=10000\n",
      "2023-10-27 13:37:32.125 INFO  [140298138134080] ConnectionPool:106 | Created connection for pulsar://localhost:6650\n",
      "2023-10-27 13:37:32.126 WARN  [140298138134080] ClientConnection:450 | [<none> -> pulsar://localhost:6650] Failed to establish connection: Connection refused\n",
      "2023-10-27 13:37:32.126 ERROR [140298138134080] ClientConnection:475 | [<none> -> pulsar://localhost:6650] Failed to establish connection: Connection refused\n",
      "2023-10-27 13:37:32.126 INFO  [140298138134080] ClientConnection:1236 | [<none> -> pulsar://localhost:6650] Connection disconnected\n",
      "2023-10-27 13:37:32.126 INFO  [140298138134080] RetryableOperation:106 | Reschedule get-partition-metadata-persistent://public/default/my-topic for 792 ms, remaining time: 28552 ms\n",
      "2023-10-27 13:37:32.126 INFO  [140298138134080] ClientConnection:263 | [<none> -> pulsar://localhost:6650] Destroyed connection\n",
      "2023-10-27 13:37:32.918 INFO  [140298138134080] ConnectionPool:86 | Deleting stale connection from pool for pulsar://localhost:6650 use_count: -1 @ 0\n",
      "2023-10-27 13:37:32.918 INFO  [140298138134080] ClientConnection:184 | [<none> -> pulsar://localhost:6650] Create ClientConnection, timeout=10000\n",
      "2023-10-27 13:37:32.918 INFO  [140298138134080] ConnectionPool:106 | Created connection for pulsar://localhost:6650\n",
      "2023-10-27 13:37:32.919 WARN  [140298138134080] ClientConnection:450 | [<none> -> pulsar://localhost:6650] Failed to establish connection: Connection refused\n",
      "2023-10-27 13:37:32.919 ERROR [140298138134080] ClientConnection:475 | [<none> -> pulsar://localhost:6650] Failed to establish connection: Connection refused\n",
      "2023-10-27 13:37:32.919 INFO  [140298138134080] ClientConnection:1236 | [<none> -> pulsar://localhost:6650] Connection disconnected\n",
      "2023-10-27 13:37:32.919 INFO  [140298138134080] RetryableOperation:106 | Reschedule get-partition-metadata-persistent://public/default/my-topic for 1552 ms, remaining time: 27000 ms\n",
      "2023-10-27 13:37:32.919 INFO  [140298138134080] ClientConnection:263 | [<none> -> pulsar://localhost:6650] Destroyed connection\n",
      "2023-10-27 13:37:34.471 INFO  [140298138134080] ConnectionPool:86 | Deleting stale connection from pool for pulsar://localhost:6650 use_count: -1 @ 0\n",
      "2023-10-27 13:37:34.471 INFO  [140298138134080] ClientConnection:184 | [<none> -> pulsar://localhost:6650] Create ClientConnection, timeout=10000\n",
      "2023-10-27 13:37:34.471 INFO  [140298138134080] ConnectionPool:106 | Created connection for pulsar://localhost:6650\n",
      "2023-10-27 13:37:34.471 WARN  [140298138134080] ClientConnection:450 | [<none> -> pulsar://localhost:6650] Failed to establish connection: Connection refused\n",
      "2023-10-27 13:37:34.471 ERROR [140298138134080] ClientConnection:475 | [<none> -> pulsar://localhost:6650] Failed to establish connection: Connection refused\n",
      "2023-10-27 13:37:34.471 INFO  [140298138134080] ClientConnection:1236 | [<none> -> pulsar://localhost:6650] Connection disconnected\n",
      "2023-10-27 13:37:34.471 INFO  [140298138134080] RetryableOperation:106 | Reschedule get-partition-metadata-persistent://public/default/my-topic for 3136 ms, remaining time: 23864 ms\n",
      "2023-10-27 13:37:34.471 INFO  [140298138134080] ClientConnection:263 | [<none> -> pulsar://localhost:6650] Destroyed connection\n",
      "2023-10-27 13:37:37.607 INFO  [140298138134080] ConnectionPool:86 | Deleting stale connection from pool for pulsar://localhost:6650 use_count: -1 @ 0\n",
      "2023-10-27 13:37:37.608 INFO  [140298138134080] ClientConnection:184 | [<none> -> pulsar://localhost:6650] Create ClientConnection, timeout=10000\n",
      "2023-10-27 13:37:37.608 INFO  [140298138134080] ConnectionPool:106 | Created connection for pulsar://localhost:6650\n",
      "2023-10-27 13:37:37.608 WARN  [140298138134080] ClientConnection:450 | [<none> -> pulsar://localhost:6650] Failed to establish connection: Connection refused\n",
      "2023-10-27 13:37:37.608 ERROR [140298138134080] ClientConnection:475 | [<none> -> pulsar://localhost:6650] Failed to establish connection: Connection refused\n",
      "2023-10-27 13:37:37.608 INFO  [140298138134080] ClientConnection:1236 | [<none> -> pulsar://localhost:6650] Connection disconnected\n",
      "2023-10-27 13:37:37.608 INFO  [140298138134080] RetryableOperation:106 | Reschedule get-partition-metadata-persistent://public/default/my-topic for 6144 ms, remaining time: 17720 ms\n",
      "2023-10-27 13:37:37.608 INFO  [140298138134080] ClientConnection:263 | [<none> -> pulsar://localhost:6650] Destroyed connection\n",
      "2023-10-27 13:37:43.752 INFO  [140298138134080] ConnectionPool:86 | Deleting stale connection from pool for pulsar://localhost:6650 use_count: -1 @ 0\n",
      "2023-10-27 13:37:43.752 INFO  [140298138134080] ClientConnection:184 | [<none> -> pulsar://localhost:6650] Create ClientConnection, timeout=10000\n",
      "2023-10-27 13:37:43.752 INFO  [140298138134080] ConnectionPool:106 | Created connection for pulsar://localhost:6650\n",
      "2023-10-27 13:37:43.753 WARN  [140298138134080] ClientConnection:450 | [<none> -> pulsar://localhost:6650] Failed to establish connection: Connection refused\n",
      "2023-10-27 13:37:43.753 ERROR [140298138134080] ClientConnection:475 | [<none> -> pulsar://localhost:6650] Failed to establish connection: Connection refused\n",
      "2023-10-27 13:37:43.753 INFO  [140298138134080] ClientConnection:1236 | [<none> -> pulsar://localhost:6650] Connection disconnected\n",
      "2023-10-27 13:37:43.753 INFO  [140298138134080] RetryableOperation:106 | Reschedule get-partition-metadata-persistent://public/default/my-topic for 12288 ms, remaining time: 5432 ms\n",
      "2023-10-27 13:37:43.753 INFO  [140298138134080] ClientConnection:263 | [<none> -> pulsar://localhost:6650] Destroyed connection\n",
      "2023-10-27 13:37:56.041 INFO  [140298138134080] ConnectionPool:86 | Deleting stale connection from pool for pulsar://localhost:6650 use_count: -1 @ 0\n",
      "2023-10-27 13:37:56.041 INFO  [140298138134080] ClientConnection:184 | [<none> -> pulsar://localhost:6650] Create ClientConnection, timeout=10000\n",
      "2023-10-27 13:37:56.041 INFO  [140298138134080] ConnectionPool:106 | Created connection for pulsar://localhost:6650\n",
      "2023-10-27 13:37:56.041 WARN  [140298138134080] ClientConnection:450 | [<none> -> pulsar://localhost:6650] Failed to establish connection: Connection refused\n",
      "2023-10-27 13:37:56.041 ERROR [140298138134080] ClientConnection:475 | [<none> -> pulsar://localhost:6650] Failed to establish connection: Connection refused\n",
      "2023-10-27 13:37:56.041 INFO  [140298138134080] ClientConnection:1236 | [<none> -> pulsar://localhost:6650] Connection disconnected\n",
      "2023-10-27 13:37:56.041 INFO  [140298138134080] RetryableOperation:106 | Reschedule get-partition-metadata-persistent://public/default/my-topic for 5432 ms, remaining time: 0 ms\n",
      "2023-10-27 13:37:56.041 INFO  [140298138134080] ClientConnection:263 | [<none> -> pulsar://localhost:6650] Destroyed connection\n",
      "2023-10-27 13:38:01.473 INFO  [140298138134080] ConnectionPool:86 | Deleting stale connection from pool for pulsar://localhost:6650 use_count: -1 @ 0\n",
      "2023-10-27 13:38:01.474 INFO  [140298138134080] ClientConnection:184 | [<none> -> pulsar://localhost:6650] Create ClientConnection, timeout=10000\n",
      "2023-10-27 13:38:01.474 INFO  [140298138134080] ConnectionPool:106 | Created connection for pulsar://localhost:6650\n",
      "2023-10-27 13:38:01.474 WARN  [140298138134080] ClientConnection:450 | [<none> -> pulsar://localhost:6650] Failed to establish connection: Connection refused\n",
      "2023-10-27 13:38:01.474 ERROR [140298138134080] ClientConnection:475 | [<none> -> pulsar://localhost:6650] Failed to establish connection: Connection refused\n",
      "2023-10-27 13:38:01.474 INFO  [140298138134080] ClientConnection:1236 | [<none> -> pulsar://localhost:6650] Connection disconnected\n",
      "2023-10-27 13:38:01.474 ERROR [140298138134080] ClientImpl:489 | Error Checking/Getting Partition Metadata while Subscribing on persistent://public/default/my-topic -- TimeOut\n",
      "2023-10-27 13:38:01.474 INFO  [140298138134080] ClientConnection:263 | [<none> -> pulsar://localhost:6650] Destroyed connection\n"
     ]
    },
    {
     "ename": "Timeout",
     "evalue": "Pulsar error: TimeOut",
     "output_type": "error",
     "traceback": [
      "\u001b[0;31m---------------------------------------------------------------------------\u001b[0m",
      "\u001b[0;31mTimeout\u001b[0m                                   Traceback (most recent call last)",
      "Cell \u001b[0;32mIn[48], line 2\u001b[0m\n\u001b[1;32m      1\u001b[0m client \u001b[38;5;241m=\u001b[39m pulsar\u001b[38;5;241m.\u001b[39mClient(\u001b[38;5;124m'\u001b[39m\u001b[38;5;124mpulsar://localhost:6650\u001b[39m\u001b[38;5;124m'\u001b[39m)\n\u001b[0;32m----> 2\u001b[0m consumer \u001b[38;5;241m=\u001b[39m \u001b[43mclient\u001b[49m\u001b[38;5;241;43m.\u001b[39;49m\u001b[43msubscribe\u001b[49m\u001b[43m(\u001b[49m\u001b[38;5;124;43m'\u001b[39;49m\u001b[38;5;124;43mmy-topic\u001b[39;49m\u001b[38;5;124;43m'\u001b[39;49m\u001b[43m,\u001b[49m\u001b[43m \u001b[49m\u001b[43msubscription_name\u001b[49m\u001b[38;5;241;43m=\u001b[39;49m\u001b[38;5;124;43m'\u001b[39;49m\u001b[38;5;124;43mmy-sub\u001b[39;49m\u001b[38;5;124;43m'\u001b[39;49m\u001b[43m)\u001b[49m\n\u001b[1;32m      4\u001b[0m \u001b[38;5;28;01mwhile\u001b[39;00m \u001b[38;5;28;01mTrue\u001b[39;00m:\n\u001b[1;32m      5\u001b[0m     msg \u001b[38;5;241m=\u001b[39m consumer\u001b[38;5;241m.\u001b[39mreceive()\n",
      "File \u001b[0;32m/opt/conda/lib/python3.11/site-packages/pulsar/__init__.py:940\u001b[0m, in \u001b[0;36mClient.subscribe\u001b[0;34m(self, topic, subscription_name, consumer_type, schema, message_listener, receiver_queue_size, max_total_receiver_queue_size_across_partitions, consumer_name, unacked_messages_timeout_ms, broker_consumer_stats_cache_time_ms, negative_ack_redelivery_delay_ms, is_read_compacted, properties, pattern_auto_discovery_period, initial_position, crypto_key_reader, replicate_subscription_state_enabled, max_pending_chunked_message, auto_ack_oldest_chunked_message_on_queue_full, start_message_id_inclusive, batch_receive_policy, key_shared_policy, batch_index_ack_enabled, regex_subscription_mode, dead_letter_policy)\u001b[0m\n\u001b[1;32m    937\u001b[0m c \u001b[38;5;241m=\u001b[39m Consumer()\n\u001b[1;32m    938\u001b[0m \u001b[38;5;28;01mif\u001b[39;00m \u001b[38;5;28misinstance\u001b[39m(topic, \u001b[38;5;28mstr\u001b[39m):\n\u001b[1;32m    939\u001b[0m     \u001b[38;5;66;03m# Single topic\u001b[39;00m\n\u001b[0;32m--> 940\u001b[0m     c\u001b[38;5;241m.\u001b[39m_consumer \u001b[38;5;241m=\u001b[39m \u001b[38;5;28;43mself\u001b[39;49m\u001b[38;5;241;43m.\u001b[39;49m\u001b[43m_client\u001b[49m\u001b[38;5;241;43m.\u001b[39;49m\u001b[43msubscribe\u001b[49m\u001b[43m(\u001b[49m\u001b[43mtopic\u001b[49m\u001b[43m,\u001b[49m\u001b[43m \u001b[49m\u001b[43msubscription_name\u001b[49m\u001b[43m,\u001b[49m\u001b[43m \u001b[49m\u001b[43mconf\u001b[49m\u001b[43m)\u001b[49m\n\u001b[1;32m    941\u001b[0m \u001b[38;5;28;01melif\u001b[39;00m \u001b[38;5;28misinstance\u001b[39m(topic, \u001b[38;5;28mlist\u001b[39m):\n\u001b[1;32m    942\u001b[0m     \u001b[38;5;66;03m# List of topics\u001b[39;00m\n\u001b[1;32m    943\u001b[0m     c\u001b[38;5;241m.\u001b[39m_consumer \u001b[38;5;241m=\u001b[39m \u001b[38;5;28mself\u001b[39m\u001b[38;5;241m.\u001b[39m_client\u001b[38;5;241m.\u001b[39msubscribe_topics(topic, subscription_name, conf)\n",
      "\u001b[0;31mTimeout\u001b[0m: Pulsar error: TimeOut"
     ]
    }
   ],
   "source": [
    "client = pulsar.Client('pulsar://localhost:6650')\n",
    "consumer = client.subscribe('my-topic', subscription_name='my-sub')\n",
    "\n",
    "while True:\n",
    "    msg = consumer.receive()\n",
    "    print(\"Received message: '%s'\" % msg.data())\n",
    "    consumer.acknowledge(msg)\n",
    "\n",
    "client.close()"
   ]
  },
  {
   "cell_type": "code",
   "execution_count": null,
   "id": "bc058805-c81c-41b2-9367-08b08a8956e1",
   "metadata": {},
   "outputs": [],
   "source": []
  }
 ],
 "metadata": {
  "kernelspec": {
   "display_name": "Python 3 (ipykernel)",
   "language": "python",
   "name": "python3"
  },
  "language_info": {
   "codemirror_mode": {
    "name": "ipython",
    "version": 3
   },
   "file_extension": ".py",
   "mimetype": "text/x-python",
   "name": "python",
   "nbconvert_exporter": "python",
   "pygments_lexer": "ipython3",
   "version": "3.11.6"
  }
 },
 "nbformat": 4,
 "nbformat_minor": 5
}
