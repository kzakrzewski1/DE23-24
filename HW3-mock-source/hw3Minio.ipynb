{
 "cells": [
  {
   "cell_type": "code",
   "execution_count": 6,
   "id": "63be2b50-18f1-48d9-bf7a-c138c9ca7801",
   "metadata": {},
   "outputs": [],
   "source": [
    "import requests\n",
    "import pandas as pd"
   ]
  },
  {
   "cell_type": "code",
   "execution_count": 7,
   "id": "7c0575ef-b851-4158-aa72-724efca4e21b",
   "metadata": {},
   "outputs": [],
   "source": [
    "url = 'http://127.0.0.1:8000/'"
   ]
  },
  {
   "cell_type": "code",
   "execution_count": 8,
   "id": "bcba00d4-1a6e-44cb-958e-9316d21e32d7",
   "metadata": {},
   "outputs": [
    {
     "name": "stdout",
     "output_type": "stream",
     "text": [
      "        name  height[cm]\n",
      "0       Liam  175.386260\n",
      "1        Bob  186.014136\n",
      "2       Liam  185.311892\n",
      "3     Olivia  182.154375\n",
      "4       Alex  177.886332\n",
      "...      ...         ...\n",
      "9995   Alice  171.487333\n",
      "9996   Alice  179.495209\n",
      "9997    Liam  175.171340\n",
      "9998   David  177.521121\n",
      "9999   Emily  186.151957\n",
      "\n",
      "[10000 rows x 2 columns]\n"
     ]
    }
   ],
   "source": [
    "response = requests.get(url)\n",
    "data = pd.DataFrame.from_dict(response.json())\n",
    "\n",
    "print(data)"
   ]
  },
  {
   "cell_type": "code",
   "execution_count": 9,
   "id": "0b117d5c-6e86-44f0-a0ec-1d8297265918",
   "metadata": {},
   "outputs": [
    {
     "name": "stdout",
     "output_type": "stream",
     "text": [
      "Requirement already satisfied: minio in /opt/conda/lib/python3.11/site-packages (7.1.17)\n",
      "Requirement already satisfied: certifi in /opt/conda/lib/python3.11/site-packages (from minio) (2023.7.22)\n",
      "Requirement already satisfied: urllib3 in /opt/conda/lib/python3.11/site-packages (from minio) (2.0.7)\n"
     ]
    }
   ],
   "source": [
    "!pip install minio"
   ]
  },
  {
   "cell_type": "code",
   "execution_count": null,
   "id": "938df527-ae6a-4d17-a870-705dd04b0a4b",
   "metadata": {},
   "outputs": [],
   "source": [
    "#docker run -p 9000:9000 -p 9090:9090 --name minio1 -v D:\\minio\\data:/data -e \"MINIO_ROOT_USER=ROOTUSER\"\n",
    "#-e \"MINIO_ROOT_PASSWORD=CHANGEME123\" quay.io/minio/minio server /data --console-address \":9090\""
   ]
  },
  {
   "cell_type": "code",
   "execution_count": 10,
   "id": "4e72d783-0150-41c0-98d3-da22fcae41d7",
   "metadata": {},
   "outputs": [
    {
     "name": "stdout",
     "output_type": "stream",
     "text": [
      "my-bucket1 already exists\n"
     ]
    },
    {
     "data": {
      "text/plain": [
       "<minio.helpers.ObjectWriteResult at 0x7f89ca6ae9d0>"
      ]
     },
     "execution_count": 10,
     "metadata": {},
     "output_type": "execute_result"
    }
   ],
   "source": [
    "from minio import Minio\n",
    "from minio.error import S3Error\n",
    "from io import BytesIO\n",
    "\n",
    "\n",
    "client = Minio(\n",
    "        \"172.17.0.4:9000\",\n",
    "        access_key=\"2BbdJFBnR0Qjqs2FpgLp\",\n",
    "        secret_key=\"oX6FYc26BZCDmS9MrNzf9BCRRo0jPgxtDWE81GJK\",\n",
    "        secure = False \n",
    "    )\n",
    "\n",
    "client.list_buckets()\n",
    "found = client.bucket_exists(\"my-bucket1\")\n",
    "if not found:\n",
    "    client.make_bucket(\"my-bucket1\")\n",
    "else:\n",
    "    print(\"my-bucket1 already exists\")\n",
    "\n",
    "\n",
    "csv_bytes = data.to_csv().encode('utf-8')\n",
    "csv_buffer = BytesIO(csv_bytes)\n",
    "\n",
    "client.put_object('my-bucket1',\n",
    "                  'random-data1.csv',\n",
    "                   data=csv_buffer,\n",
    "                   length=len(csv_bytes),\n",
    "                   content_type='csv')\n"
   ]
  },
  {
   "cell_type": "code",
   "execution_count": null,
   "id": "664201d0-4e94-4b57-b538-8f1130bb031c",
   "metadata": {},
   "outputs": [],
   "source": []
  }
 ],
 "metadata": {
  "kernelspec": {
   "display_name": "Python 3 (ipykernel)",
   "language": "python",
   "name": "python3"
  },
  "language_info": {
   "codemirror_mode": {
    "name": "ipython",
    "version": 3
   },
   "file_extension": ".py",
   "mimetype": "text/x-python",
   "name": "python",
   "nbconvert_exporter": "python",
   "pygments_lexer": "ipython3",
   "version": "3.11.6"
  }
 },
 "nbformat": 4,
 "nbformat_minor": 5
}
